{
 "cells": [
  {
   "cell_type": "code",
   "execution_count": 1,
   "id": "c51b488e",
   "metadata": {},
   "outputs": [],
   "source": [
    "import os\n",
    "import sys\n",
    "\n",
    "# Project origin\n",
    "sys.path.append(os.path.abspath(\"..\"))"
   ]
  },
  {
   "cell_type": "markdown",
   "id": "1e832036",
   "metadata": {},
   "source": [
    "#### Imports"
   ]
  },
  {
   "cell_type": "code",
   "execution_count": 13,
   "id": "b5f4ddef",
   "metadata": {},
   "outputs": [],
   "source": [
    "import requests\n",
    "import json\n",
    "import time\n",
    "from datetime import timedelta\n",
    "import pandas as pd"
   ]
  },
  {
   "cell_type": "code",
   "execution_count": 9,
   "id": "a4358a38",
   "metadata": {},
   "outputs": [
    {
     "data": {
      "text/plain": [
       "[{'text': 'does village inn let you make reservations',\n",
       "  'intent': 'accept_reservations'},\n",
       " {'text': 'can i make a reservation at chima steakhouse in chicago',\n",
       "  'intent': 'accept_reservations'}]"
      ]
     },
     "execution_count": 9,
     "metadata": {},
     "output_type": "execute_result"
    }
   ],
   "source": [
    "with open(\"../../dataset/test.json\", \"r\", encoding=\"utf-8\") as f:\n",
    "    test_data = json.load(f)\n",
    "\n",
    "test_data[:2]"
   ]
  },
  {
   "cell_type": "markdown",
   "id": "ffba42ad",
   "metadata": {},
   "source": [
    "#### Config and utils"
   ]
  },
  {
   "cell_type": "code",
   "execution_count": null,
   "id": "b3b99e73",
   "metadata": {},
   "outputs": [
    {
     "name": "stdout",
     "output_type": "stream",
     "text": [
      "{\"text\":\"who is the one who programmed you\",\"intent\":{\"name\":\"who_made_you\",\"confidence\":0.8705620765686035},\"entities\":[],\"text_tokens\":[[0,3],[4,6],[7,10],[11,14],[15,18],[19,29],[30,33]],\"intent_ranking\":[{\"name\":\"who_made_you\",\"confidence\":0.8705620765686035},{\"name\":\"who_do_you_work_for\",\"confidence\":0.009470746852457523},{\"name\":\"w2\",\"confidence\":0.006508230697363615},{\"name\":\"weather\",\"confidence\":0.006414706353098154},{\"name\":\"improve_credit_score\",\"confidence\":0.006323659792542458},{\"name\":\"card_declined\",\"confidence\":0.006265787407755852},{\"name\":\"pay_bill\",\"confidence\":0.004768742248415947},{\"name\":\"what_is_your_name\",\"confidence\":0.004008719231933355},{\"name\":\"gas\",\"confidence\":0.003962547518312931},{\"name\":\"what_can_i_ask_you\",\"confidence\":0.003872878151014447}],\"response_selector\":{\"all_retrieval_intents\":[],\"default\":{\"response\":{\"responses\":null,\"confidence\":0.0,\"intent_response_key\":null,\"utter_action\":\"utter_None\"},\"ranking\":[]}}}\n"
     ]
    }
   ],
   "source": [
    "\n",
    "# url = \"http://localhost:5005/model/parse\"\n",
    "\n",
    "# payload = json.dumps({\n",
    "#   \"text\": \"who is the one who programmed you\"\n",
    "# })\n",
    "# headers = {\n",
    "#   'Content-Type': 'application/json'\n",
    "# }\n",
    "\n",
    "# response = requests.request(\"POST\", url, headers=headers, data=payload)\n",
    "\n",
    "# print(response.text)\n",
    "\n",
    "\n"
   ]
  },
  {
   "cell_type": "code",
   "execution_count": 14,
   "id": "e2abf06b",
   "metadata": {},
   "outputs": [],
   "source": [
    "def safe_rasa_invoke(text, retries=3, base_wait=1.0):\n",
    "    url = \"http://localhost:5005/model/parse\"\n",
    "    payload = json.dumps({\"text\": text})\n",
    "    headers = {\"Content-Type\": \"application/json\"}\n",
    "\n",
    "    for attempt in range(retries):\n",
    "        try:\n",
    "            response = requests.post(url, headers=headers, data=payload)\n",
    "            if response.status_code == 200:\n",
    "                data = response.json()\n",
    "                return data.get(\"intent\", {}).get(\"name\", \"UNKNOWN\")\n",
    "            else:\n",
    "                raise Exception(f\"Status {response.status_code}\")\n",
    "        except Exception as e:\n",
    "            if attempt < retries - 1:\n",
    "                wait = base_wait + 0.5 * attempt\n",
    "                time.sleep(wait)\n",
    "            else:\n",
    "                print(f\"Failed after retries: {e}\")\n",
    "                return \"ERROR\""
   ]
  },
  {
   "cell_type": "code",
   "execution_count": 15,
   "id": "b66ba4ad",
   "metadata": {},
   "outputs": [],
   "source": [
    "def run_rasa_evaluation(test_data, sleep_time=1.0, verbose=False, save_path=None):\n",
    "    results = []\n",
    "    errors = []\n",
    "\n",
    "    total_start = time.time()\n",
    "    total = len(test_data)\n",
    "\n",
    "    for i, item in enumerate(test_data):\n",
    "        user_input = item[\"text\"]\n",
    "\n",
    "        try:\n",
    "            time.sleep(sleep_time)\n",
    "            iter_start = time.time()\n",
    "            predicted_intent = safe_rasa_invoke(user_input)\n",
    "            duration = time.time() - iter_start\n",
    "\n",
    "            result = {\n",
    "                \"text\": user_input,\n",
    "                \"expected\": item[\"intent\"],\n",
    "                \"predicted\": predicted_intent,\n",
    "                \"latency_sec\": round(duration, 3),\n",
    "            }\n",
    "            results.append(result)\n",
    "\n",
    "            if verbose:\n",
    "                elapsed = time.time() - total_start\n",
    "                percent = 100 * (i + 1) / total\n",
    "                eta = timedelta(seconds=int((elapsed / (i + 1)) * (total - (i + 1))))\n",
    "                print(f\"[{i+1}/{total}] ✅ {percent:.2f}% - {round(duration, 2)}s - ETA: {eta}\")\n",
    "\n",
    "            if save_path:\n",
    "                pd.DataFrame(results).to_csv(f\"{save_path}_partial.csv\", index=False)\n",
    "\n",
    "        except Exception as e:\n",
    "            errors.append(item)\n",
    "\n",
    "            results.append({\n",
    "                \"text\": user_input,\n",
    "                \"expected\": item[\"intent\"],\n",
    "                \"predicted\": \"ERROR\",\n",
    "                \"latency_sec\": 0\n",
    "            })\n",
    "\n",
    "            if save_path:\n",
    "                pd.DataFrame(results).to_csv(f\"{save_path}_partial.csv\", index=False)\n",
    "                with open(f\"{save_path}_error.json\", \"w\", encoding=\"utf-8\") as f:\n",
    "                    json.dump(errors, f, indent=2, ensure_ascii=False)\n",
    "\n",
    "    total_duration = time.time() - total_start\n",
    "    n_responses = len(results)\n",
    "    sum_latencies = sum(r[\"latency_sec\"] for r in results)\n",
    "\n",
    "    stats = {\n",
    "        \"total_time_sec\": round(total_duration, 3),\n",
    "        \"avg_latency_sec_inference\": round(sum_latencies / n_responses, 3) if n_responses else 0,\n",
    "        \"throughput_inference\": round(n_responses / sum_latencies, 3) if sum_latencies else 0,\n",
    "        \"throughput_pipeline\": round(n_responses / total_duration, 3) if total_duration else 0,\n",
    "    }\n",
    "\n",
    "    if save_path:\n",
    "        pd.DataFrame(results).to_csv(f\"{save_path}_final.csv\", index=False)\n",
    "        with open(f\"{save_path}_stats.json\", \"w\", encoding=\"utf-8\") as f:\n",
    "            json.dump(stats, f, indent=2, ensure_ascii=False)\n",
    "        if errors:\n",
    "            with open(f\"{save_path}_error.json\", \"w\", encoding=\"utf-8\") as f:\n",
    "                json.dump(errors, f, indent=2, ensure_ascii=False)\n",
    "\n",
    "    return results, stats"
   ]
  },
  {
   "cell_type": "code",
   "execution_count": 20,
   "id": "4f74d980",
   "metadata": {},
   "outputs": [
    {
     "name": "stdout",
     "output_type": "stream",
     "text": [
      "Rasa stats: {'total_time_sec': 66.111, 'avg_latency_sec_inference': 0.008, 'throughput_inference': 131.768, 'throughput_pipeline': 68.068}\n"
     ]
    }
   ],
   "source": [
    "RASA_BASE_PATH = \"../../results/rasa\"\n",
    "\n",
    "results, stats = run_rasa_evaluation(\n",
    "    test_data=test_data,\n",
    "    sleep_time=0,\n",
    "    verbose=False,\n",
    "    save_path=f\"{RASA_BASE_PATH}/intent_eval\"\n",
    ")\n",
    "\n",
    "print(\"Rasa stats:\", stats)"
   ]
  },
  {
   "cell_type": "code",
   "execution_count": null,
   "id": "38c30f76",
   "metadata": {},
   "outputs": [],
   "source": []
  }
 ],
 "metadata": {
  "kernelspec": {
   "display_name": ".venv",
   "language": "python",
   "name": "python3"
  },
  "language_info": {
   "codemirror_mode": {
    "name": "ipython",
    "version": 3
   },
   "file_extension": ".py",
   "mimetype": "text/x-python",
   "name": "python",
   "nbconvert_exporter": "python",
   "pygments_lexer": "ipython3",
   "version": "3.12.8"
  }
 },
 "nbformat": 4,
 "nbformat_minor": 5
}
