{
 "cells": [
  {
   "cell_type": "code",
   "execution_count": 1,
   "id": "d147c7df",
   "metadata": {},
   "outputs": [],
   "source": [
    "import os\n",
    "import sys\n",
    "\n",
    "# Project origin\n",
    "sys.path.append(os.path.abspath(\"..\"))"
   ]
  },
  {
   "cell_type": "markdown",
   "id": "0b53c418",
   "metadata": {},
   "source": [
    "#### Imports"
   ]
  },
  {
   "cell_type": "code",
   "execution_count": 6,
   "id": "df1007a6",
   "metadata": {},
   "outputs": [
    {
     "data": {
      "text/plain": [
       "True"
      ]
     },
     "execution_count": 6,
     "metadata": {},
     "output_type": "execute_result"
    }
   ],
   "source": [
    "import time\n",
    "import json\n",
    "import random\n",
    "import tiktoken\n",
    "import pandas as pd\n",
    "\n",
    "from enum import Enum\n",
    "from time import sleep\n",
    "from dotenv import load_dotenv\n",
    "from langchain_mistralai import ChatMistralAI\n",
    "from langchain_core.prompts import  PromptTemplate\n",
    "from langchain_core.output_parsers import  StrOutputParser\n",
    "\n",
    "from prompts.general_prompts import SOFT_TARGET_PROMPT\n",
    "\n",
    "load_dotenv()\n",
    "# os.environ[\"MISTRAL_API_KEY\"]"
   ]
  },
  {
   "cell_type": "markdown",
   "id": "2ca604e8",
   "metadata": {},
   "source": [
    "#### Load data and enviroment"
   ]
  },
  {
   "cell_type": "code",
   "execution_count": 10,
   "id": "7fbde7f6",
   "metadata": {},
   "outputs": [
    {
     "name": "stdout",
     "output_type": "stream",
     "text": [
      "[{'intent': 'accept_reservations', 'text': 'let me know if grub burger takes reservations'}, {'intent': 'account_blocked', 'text': 'are there any problems with my bank account'}]\n",
      "[{'text': 'does village inn let you make reservations', 'intent': 'accept_reservations'}, {'text': 'can i make a reservation at chima steakhouse in chicago', 'intent': 'accept_reservations'}]\n"
     ]
    }
   ],
   "source": [
    "with open(\"../../dataset/llms/llm.json\", \"r\", encoding=\"utf-8\") as f:\n",
    "    data = json.load(f)\n",
    "    data = data[:5]\n",
    "    \n",
    "with open(\"../../dataset/test.json\", \"r\", encoding=\"utf-8\") as f:\n",
    "    test_data = json.load(f)\n",
    "\n",
    "print(data[0:2])\n",
    "print(test_data[0:2])"
   ]
  },
  {
   "cell_type": "markdown",
   "id": "e23b4b36",
   "metadata": {},
   "source": [
    "### Prompt construction and parsing utils"
   ]
  },
  {
   "cell_type": "code",
   "execution_count": 21,
   "id": "5454f177",
   "metadata": {},
   "outputs": [],
   "source": [
    "def soft_target_prompt(user_input, intent_list):\n",
    "    intents_str = \"\\n\".join(f\"- {intent}\" for intent in sorted(set(intent_list)))\n",
    "    return SOFT_TARGET_PROMPT.format(intents=intents_str, user_input=user_input)\n",
    "\n",
    "def parse_soft_targets(response, all_intents):\n",
    "    try:\n",
    "        response = response.strip()\n",
    "        if not response.startswith(\"{\"):\n",
    "            response = \"{\" + response.split(\"{\", 1)[-1]\n",
    "        if not response.endswith(\"}\"):\n",
    "            response = response.split(\"}\")[0] + \"}\"\n",
    "\n",
    "        probs = json.loads(response)\n",
    "        probs = {k: float(probs.get(k, 1e-5)) for k in all_intents}\n",
    "\n",
    "        total = sum(probs.values())\n",
    "        normalized = {k: v / total for k, v in probs.items()}\n",
    "        return normalized\n",
    "\n",
    "    except Exception as e:\n",
    "        print(\"Parse error:\", e)\n",
    "        return None\n"
   ]
  },
  {
   "cell_type": "markdown",
   "id": "3dccad1e",
   "metadata": {},
   "source": [
    "#### Configure Mistral LLM"
   ]
  },
  {
   "cell_type": "code",
   "execution_count": 22,
   "id": "3624827b",
   "metadata": {},
   "outputs": [],
   "source": [
    "llm = ChatMistralAI(model=\"mistral-small-latest\", temperature=0.0)\n",
    "prompt_template = PromptTemplate.from_template(\"{message}\")\n",
    "output_parser = StrOutputParser()\n",
    "\n",
    "chain = prompt_template | llm | output_parser"
   ]
  },
  {
   "cell_type": "markdown",
   "id": "82828d14",
   "metadata": {},
   "source": [
    "#### Generate soft targets and save distillation dataset"
   ]
  },
  {
   "cell_type": "code",
   "execution_count": 25,
   "id": "807ce531",
   "metadata": {},
   "outputs": [
    {
     "name": "stdout",
     "output_type": "stream",
     "text": [
      "🔁 1/5 - Processing: let me know if grub burger takes reservations\n",
      "🔁 2/5 - Processing: are there any problems with my bank account\n",
      "🔁 3/5 - Processing: please set an alarm for me\n",
      "🔁 4/5 - Processing: how is the status of my credit card application coming along\n",
      "🔁 5/5 - Processing: tell me the current apr on my visa card from bbt\n"
     ]
    }
   ],
   "source": [
    "all_intents = sorted(set(item[\"intent\"] for item in data))\n",
    "soft_data = []\n",
    "\n",
    "for i, item in enumerate(data):\n",
    "    sleep(2.5)\n",
    "    user_input = item[\"text\"]\n",
    "    prompt = soft_target_prompt(user_input, all_intents)\n",
    "\n",
    "    print(f\"🔁 {i+1}/{len(data)} - Processing: {user_input}\")\n",
    "    response = chain.invoke({\"message\": prompt})\n",
    "    soft_targets = parse_soft_targets(response, all_intents)\n",
    "\n",
    "    if soft_targets:\n",
    "        soft_data.append({\"text\": user_input, \"soft_targets\": soft_targets})"
   ]
  },
  {
   "cell_type": "code",
   "execution_count": null,
   "id": "b1936a88",
   "metadata": {},
   "outputs": [
    {
     "data": {
      "text/plain": [
       "[{'text': 'let me know if grub burger takes reservations',\n",
       "  'soft_targets': {'accept_reservations': 0.9,\n",
       "   'account_blocked': 0.02,\n",
       "   'alarm': 0.02,\n",
       "   'application_status': 0.02,\n",
       "   'apr': 0.04}},\n",
       " {'text': 'are there any problems with my bank account',\n",
       "  'soft_targets': {'accept_reservations': 0.05,\n",
       "   'account_blocked': 0.85,\n",
       "   'alarm': 0.05,\n",
       "   'application_status': 0.02,\n",
       "   'apr': 0.03}},\n",
       " {'text': 'please set an alarm for me',\n",
       "  'soft_targets': {'accept_reservations': 0.05,\n",
       "   'account_blocked': 0.05,\n",
       "   'alarm': 0.85,\n",
       "   'application_status': 0.025,\n",
       "   'apr': 0.025}},\n",
       " {'text': 'how is the status of my credit card application coming along',\n",
       "  'soft_targets': {'accept_reservations': 0.05,\n",
       "   'account_blocked': 0.05,\n",
       "   'alarm': 0.05,\n",
       "   'application_status': 0.8,\n",
       "   'apr': 0.05}},\n",
       " {'text': 'tell me the current apr on my visa card from bbt',\n",
       "  'soft_targets': {'accept_reservations': 0.05,\n",
       "   'account_blocked': 0.05,\n",
       "   'alarm': 0.05,\n",
       "   'application_status': 0.05,\n",
       "   'apr': 0.8}}]"
      ]
     },
     "execution_count": 28,
     "metadata": {},
     "output_type": "execute_result"
    }
   ],
   "source": [
    "soft_data[:3]"
   ]
  },
  {
   "cell_type": "code",
   "execution_count": null,
   "id": "56a6edb6",
   "metadata": {},
   "outputs": [],
   "source": [
    "with open(\"../../dataset/soft_targets.json\", \"w\", encoding=\"utf-8\") as f:\n",
    "    json.dump(soft_data, f, indent=2, ensure_ascii=False)\n"
   ]
  },
  {
   "cell_type": "code",
   "execution_count": null,
   "id": "1b9477ff",
   "metadata": {},
   "outputs": [],
   "source": []
  }
 ],
 "metadata": {
  "kernelspec": {
   "display_name": ".venv",
   "language": "python",
   "name": "python3"
  },
  "language_info": {
   "codemirror_mode": {
    "name": "ipython",
    "version": 3
   },
   "file_extension": ".py",
   "mimetype": "text/x-python",
   "name": "python",
   "nbconvert_exporter": "python",
   "pygments_lexer": "ipython3",
   "version": "3.12.8"
  }
 },
 "nbformat": 4,
 "nbformat_minor": 5
}
