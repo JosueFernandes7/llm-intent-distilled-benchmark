{
 "cells": [
  {
   "cell_type": "markdown",
   "metadata": {},
   "source": [
    "Cleaning the dataset"
   ]
  },
  {
   "cell_type": "code",
   "execution_count": 70,
   "metadata": {},
   "outputs": [
    {
     "name": "stdout",
     "output_type": "stream",
     "text": [
      "Path to dataset files: /home/josue/.cache/kagglehub/datasets/hongtrung/clinc150-dataset/versions/1\n"
     ]
    }
   ],
   "source": [
    "import json\n",
    "import os\n",
    "import kagglehub\n",
    "\n",
    "# Load credentials from kaggle.json\n",
    "with open('kaggle.json', 'r', encoding='utf-8') as f:\n",
    "    data = json.load(f)\n",
    "\n",
    "os.environ['KAGGLE_USERNAME'] = data['username']\n",
    "os.environ['KAGGLE_KEY'] = data['key']\n",
    "\n",
    "# Donwload CLINIC150 DATASET FROM KAGGLE\n",
    "print(\"Path to dataset files:\", kagglehub.dataset_download(\"hongtrung/clinc150-dataset\"))\n"
   ]
  },
  {
   "cell_type": "code",
   "execution_count": 58,
   "metadata": {},
   "outputs": [
    {
     "name": "stdout",
     "output_type": "stream",
     "text": [
      "Copied data_full.json to /home/josue/llm-intent-distilled-benchmark/dataset\n"
     ]
    }
   ],
   "source": [
    "import shutil\n",
    "from pathlib import Path\n",
    "\n",
    "# Define paths\n",
    "source = Path.home() / \".cache\" / \"kagglehub\" / \"datasets\" / \"hongtrung\" / \"clinc150-dataset\" / \"versions\" / \"1\" / \"data\"\n",
    "destination = Path(\"dataset\")\n",
    "\n",
    "# Create destination folder if it doesn't exist\n",
    "destination.mkdir(parents=True, exist_ok=True)\n",
    "\n",
    "# Only copy data_full.json\n",
    "file_to_copy = source / \"data_full.json\"\n",
    "if file_to_copy.exists():\n",
    "    shutil.copy(file_to_copy, destination / \"data_full.json\")\n",
    "    print(f\"Copied {file_to_copy.name} to {destination.resolve()}\")\n",
    "else:\n",
    "    print(\"data_full.json not found in source folder.\")\n"
   ]
  },
  {
   "cell_type": "code",
   "execution_count": null,
   "metadata": {},
   "outputs": [
    {
     "name": "stdout",
     "output_type": "stream",
     "text": [
      "Train saved to: dataset/train.json\n",
      "Test saved to: dataset/test.json\n"
     ]
    }
   ],
   "source": [
    "import json\n",
    "import pandas as pd\n",
    "from sklearn.model_selection import train_test_split\n",
    "\n",
    "# Load full dataset\n",
    "with open(\"dataset/data_full.json\", \"r\", encoding=\"utf-8\") as f:\n",
    "    full_data = json.load(f)\n",
    "\n",
    "# Combine train, val, and test (excluding \"oos\")\n",
    "combined_data = []\n",
    "for split_name in [\"train\", \"val\", \"test\"]:\n",
    "    for text, intent in full_data[split_name]:\n",
    "        if intent != \"oos\":\n",
    "            combined_data.append({\"text\": text, \"intent\": intent})\n",
    "\n",
    "# Create DataFrame\n",
    "df = pd.DataFrame(combined_data)\n",
    "\n",
    "# Stratified split into 70% train and 30% test\n",
    "train_df, test_df = train_test_split(\n",
    "    df, test_size=0.3, stratify=df[\"intent\"], random_state=42\n",
    ")\n",
    "\n",
    "# Sort by intent so examples are grouped\n",
    "train_df = train_df.sort_values(by=\"intent\").reset_index(drop=True)\n",
    "test_df = test_df.sort_values(by=\"intent\").reset_index(drop=True)\n",
    "\n",
    "# Convert to required JSON format: list of {\"text\": str, \"intent\": str}\n",
    "train_list = train_df.to_dict(orient=\"records\")\n",
    "test_list = test_df.to_dict(orient=\"records\")\n",
    "\n",
    "# Save to JSON files\n",
    "train_path = \"dataset/train.json\"\n",
    "test_path = \"dataset/test.json\"\n",
    "\n",
    "with open(train_path, \"w\", encoding=\"utf-8\") as f:\n",
    "    json.dump(train_list, f, ensure_ascii=False, indent=2)\n",
    "\n",
    "with open(test_path, \"w\", encoding=\"utf-8\") as f:\n",
    "    json.dump(test_list, f, ensure_ascii=False, indent=2)\n",
    "\n",
    "print(f\"Train saved to: {train_path}\")\n",
    "print(f\"Test saved to: {test_path}\")\n"
   ]
  },
  {
   "cell_type": "code",
   "execution_count": 60,
   "metadata": {},
   "outputs": [
    {
     "data": {
      "text/html": [
       "<div>\n",
       "<style scoped>\n",
       "    .dataframe tbody tr th:only-of-type {\n",
       "        vertical-align: middle;\n",
       "    }\n",
       "\n",
       "    .dataframe tbody tr th {\n",
       "        vertical-align: top;\n",
       "    }\n",
       "\n",
       "    .dataframe thead th {\n",
       "        text-align: right;\n",
       "    }\n",
       "</style>\n",
       "<table border=\"1\" class=\"dataframe\">\n",
       "  <thead>\n",
       "    <tr style=\"text-align: right;\">\n",
       "      <th></th>\n",
       "      <th>intent</th>\n",
       "      <th>count</th>\n",
       "    </tr>\n",
       "  </thead>\n",
       "  <tbody>\n",
       "    <tr>\n",
       "      <th>0</th>\n",
       "      <td>accept_reservations</td>\n",
       "      <td>105</td>\n",
       "    </tr>\n",
       "    <tr>\n",
       "      <th>1</th>\n",
       "      <td>account_blocked</td>\n",
       "      <td>105</td>\n",
       "    </tr>\n",
       "    <tr>\n",
       "      <th>2</th>\n",
       "      <td>alarm</td>\n",
       "      <td>105</td>\n",
       "    </tr>\n",
       "    <tr>\n",
       "      <th>3</th>\n",
       "      <td>application_status</td>\n",
       "      <td>105</td>\n",
       "    </tr>\n",
       "    <tr>\n",
       "      <th>4</th>\n",
       "      <td>apr</td>\n",
       "      <td>105</td>\n",
       "    </tr>\n",
       "    <tr>\n",
       "      <th>...</th>\n",
       "      <td>...</td>\n",
       "      <td>...</td>\n",
       "    </tr>\n",
       "    <tr>\n",
       "      <th>145</th>\n",
       "      <td>where_are_you_from</td>\n",
       "      <td>105</td>\n",
       "    </tr>\n",
       "    <tr>\n",
       "      <th>146</th>\n",
       "      <td>whisper_mode</td>\n",
       "      <td>105</td>\n",
       "    </tr>\n",
       "    <tr>\n",
       "      <th>147</th>\n",
       "      <td>who_do_you_work_for</td>\n",
       "      <td>105</td>\n",
       "    </tr>\n",
       "    <tr>\n",
       "      <th>148</th>\n",
       "      <td>who_made_you</td>\n",
       "      <td>105</td>\n",
       "    </tr>\n",
       "    <tr>\n",
       "      <th>149</th>\n",
       "      <td>yes</td>\n",
       "      <td>105</td>\n",
       "    </tr>\n",
       "  </tbody>\n",
       "</table>\n",
       "<p>150 rows × 2 columns</p>\n",
       "</div>"
      ],
      "text/plain": [
       "                  intent  count\n",
       "0    accept_reservations    105\n",
       "1        account_blocked    105\n",
       "2                  alarm    105\n",
       "3     application_status    105\n",
       "4                    apr    105\n",
       "..                   ...    ...\n",
       "145   where_are_you_from    105\n",
       "146         whisper_mode    105\n",
       "147  who_do_you_work_for    105\n",
       "148         who_made_you    105\n",
       "149                  yes    105\n",
       "\n",
       "[150 rows x 2 columns]"
      ]
     },
     "execution_count": 60,
     "metadata": {},
     "output_type": "execute_result"
    }
   ],
   "source": [
    "# train 150 intents and 105 training phrases per intent\n",
    "# Count and show only the table of training samples per intent\n",
    "train_df[\"intent\"].value_counts().sort_index().reset_index(name=\"count\").rename(columns={\"index\": \"intent\"})"
   ]
  },
  {
   "cell_type": "code",
   "execution_count": 61,
   "metadata": {},
   "outputs": [
    {
     "data": {
      "text/html": [
       "<div>\n",
       "<style scoped>\n",
       "    .dataframe tbody tr th:only-of-type {\n",
       "        vertical-align: middle;\n",
       "    }\n",
       "\n",
       "    .dataframe tbody tr th {\n",
       "        vertical-align: top;\n",
       "    }\n",
       "\n",
       "    .dataframe thead th {\n",
       "        text-align: right;\n",
       "    }\n",
       "</style>\n",
       "<table border=\"1\" class=\"dataframe\">\n",
       "  <thead>\n",
       "    <tr style=\"text-align: right;\">\n",
       "      <th></th>\n",
       "      <th>intent</th>\n",
       "      <th>count</th>\n",
       "    </tr>\n",
       "  </thead>\n",
       "  <tbody>\n",
       "    <tr>\n",
       "      <th>0</th>\n",
       "      <td>accept_reservations</td>\n",
       "      <td>45</td>\n",
       "    </tr>\n",
       "    <tr>\n",
       "      <th>1</th>\n",
       "      <td>account_blocked</td>\n",
       "      <td>45</td>\n",
       "    </tr>\n",
       "    <tr>\n",
       "      <th>2</th>\n",
       "      <td>alarm</td>\n",
       "      <td>45</td>\n",
       "    </tr>\n",
       "    <tr>\n",
       "      <th>3</th>\n",
       "      <td>application_status</td>\n",
       "      <td>45</td>\n",
       "    </tr>\n",
       "    <tr>\n",
       "      <th>4</th>\n",
       "      <td>apr</td>\n",
       "      <td>45</td>\n",
       "    </tr>\n",
       "    <tr>\n",
       "      <th>...</th>\n",
       "      <td>...</td>\n",
       "      <td>...</td>\n",
       "    </tr>\n",
       "    <tr>\n",
       "      <th>145</th>\n",
       "      <td>where_are_you_from</td>\n",
       "      <td>45</td>\n",
       "    </tr>\n",
       "    <tr>\n",
       "      <th>146</th>\n",
       "      <td>whisper_mode</td>\n",
       "      <td>45</td>\n",
       "    </tr>\n",
       "    <tr>\n",
       "      <th>147</th>\n",
       "      <td>who_do_you_work_for</td>\n",
       "      <td>45</td>\n",
       "    </tr>\n",
       "    <tr>\n",
       "      <th>148</th>\n",
       "      <td>who_made_you</td>\n",
       "      <td>45</td>\n",
       "    </tr>\n",
       "    <tr>\n",
       "      <th>149</th>\n",
       "      <td>yes</td>\n",
       "      <td>45</td>\n",
       "    </tr>\n",
       "  </tbody>\n",
       "</table>\n",
       "<p>150 rows × 2 columns</p>\n",
       "</div>"
      ],
      "text/plain": [
       "                  intent  count\n",
       "0    accept_reservations     45\n",
       "1        account_blocked     45\n",
       "2                  alarm     45\n",
       "3     application_status     45\n",
       "4                    apr     45\n",
       "..                   ...    ...\n",
       "145   where_are_you_from     45\n",
       "146         whisper_mode     45\n",
       "147  who_do_you_work_for     45\n",
       "148         who_made_you     45\n",
       "149                  yes     45\n",
       "\n",
       "[150 rows x 2 columns]"
      ]
     },
     "execution_count": 61,
     "metadata": {},
     "output_type": "execute_result"
    }
   ],
   "source": [
    "# test 150 intents and 45 phrases per intent\n",
    "# Count and show only the table of test samples per intent\n",
    "test_df[\"intent\"].value_counts().sort_index().reset_index(name=\"count\").rename(columns={\"index\": \"intent\"})"
   ]
  },
  {
   "cell_type": "markdown",
   "metadata": {},
   "source": [
    "#### Transform the JSON train dataset to .yml for rasa"
   ]
  },
  {
   "cell_type": "code",
   "execution_count": null,
   "metadata": {},
   "outputs": [
    {
     "name": "stdout",
     "output_type": "stream",
     "text": [
      "nlu.yml saved at: /home/josue/llm-intent-distilled-benchmark/dataset/nlu.yml\n",
      "Rasa nlu.yml saved at: /home/josue/llm-intent-distilled-benchmark/rasa-inference/data/nlu.yml\n"
     ]
    }
   ],
   "source": [
    "from pathlib import Path\n",
    "\n",
    "# Group training data by intent\n",
    "grouped = train_df.groupby(\"intent\")[\"text\"].apply(list).reset_index()\n",
    "\n",
    "# Start building the nlu.yml structure\n",
    "output_lines = [\"version: '2.0'\", \"\", \"nlu:\"]\n",
    "\n",
    "# Format each intent and its examples\n",
    "for _, row in grouped.iterrows():\n",
    "    intent = row[\"intent\"]\n",
    "    examples = row[\"text\"]\n",
    "\n",
    "    output_lines.append(f\"- intent: {intent}\")\n",
    "    output_lines.append(\"  examples: |\")\n",
    "    for ex in examples:\n",
    "        output_lines.append(f\"    - {ex}\")\n",
    "    output_lines.append(\"\")  # Blank line between intents\n",
    "\n",
    "# Save the file\n",
    "RASA_NLU = \"dataset/nlu.yml\"\n",
    "RASA_PATH = \"rasa-inference/data/nlu.yml\"\n",
    "\n",
    "output_path = Path(RASA_NLU)\n",
    "output_path.write_text(\"\\n\".join(output_lines), encoding=\"utf-8\")\n",
    "\n",
    "shutil.copy(RASA_NLU, RASA_PATH)\n",
    "print(f\"nlu.yml saved at: {output_path.resolve()}\")\n",
    "print(f\"Rasa nlu.yml saved at: {RASA_PATH.resolve()}\")\n"
   ]
  },
  {
   "cell_type": "code",
   "execution_count": 73,
   "metadata": {},
   "outputs": [
    {
     "name": "stdout",
     "output_type": "stream",
     "text": [
      "\n",
      "📊 Summary of the CLINC150 Dataset Distribution (pre-processed)\n",
      "\n",
      "- The dataset contains 150 intents, with a total of 150 examples per intent.\n",
      "- The dataset was stratified and split into two subsets:\n",
      "  - Training: 105 examples per intent, totaling 15750 examples.\n",
      "  - Test: 45 examples per intent, totaling 6750 examples.\n",
      "- The split ratio is 70.0% for training and 30.0% for testing, while maintaining balanced class distribution.\n",
      "\n",
      "✅ Relevant notes for the experiment:\n",
      "\n",
      "- No \"out-of-scope\" (oos) intents were included in this version of the dataset.\n",
      "- The stratified split ensures that all intents are equally represented in both training and test sets.\n",
      "- The dataset was structured to allow fair comparisons between different intent classification approaches.\n",
      "\n"
     ]
    }
   ],
   "source": [
    "# Calculate statistics\n",
    "num_intents = train_df[\"intent\"].nunique()\n",
    "examples_per_intent_train = train_df.groupby(\"intent\").size().iloc[0]\n",
    "examples_per_intent_test = test_df.groupby(\"intent\").size().iloc[0]\n",
    "total_train = len(train_df)\n",
    "total_test = len(test_df)\n",
    "total = total_train + total_test\n",
    "train_pct = round((total_train / total) * 100, 2)\n",
    "test_pct = round((total_test / total) * 100, 2)\n",
    "\n",
    "# Generate report in English\n",
    "report = f\"\"\"\n",
    "📊 Summary of the CLINC150 Dataset Distribution (pre-processed)\n",
    "\n",
    "- The dataset contains {num_intents} intents, with a total of {examples_per_intent_train + examples_per_intent_test} examples per intent.\n",
    "- The dataset was stratified and split into two subsets:\n",
    "  - Training: {examples_per_intent_train} examples per intent, totaling {total_train} examples.\n",
    "  - Test: {examples_per_intent_test} examples per intent, totaling {total_test} examples.\n",
    "- The split ratio is {train_pct}% for training and {test_pct}% for testing, while maintaining balanced class distribution.\n",
    "\n",
    "✅ Relevant notes for the experiment:\n",
    "\n",
    "- No \"out-of-scope\" (oos) intents were included in this version of the dataset.\n",
    "- The stratified split ensures that all intents are equally represented in both training and test sets.\n",
    "- The dataset was structured to allow fair comparisons between different intent classification approaches.\n",
    "\"\"\"\n",
    "\n",
    "print(report)"
   ]
  },
  {
   "cell_type": "code",
   "execution_count": null,
   "metadata": {},
   "outputs": [],
   "source": [
    "\n"
   ]
  }
 ],
 "metadata": {
  "kernelspec": {
   "display_name": ".venv",
   "language": "python",
   "name": "python3"
  },
  "language_info": {
   "codemirror_mode": {
    "name": "ipython",
    "version": 3
   },
   "file_extension": ".py",
   "mimetype": "text/x-python",
   "name": "python",
   "nbconvert_exporter": "python",
   "pygments_lexer": "ipython3",
   "version": "3.12.8"
  }
 },
 "nbformat": 4,
 "nbformat_minor": 2
}
