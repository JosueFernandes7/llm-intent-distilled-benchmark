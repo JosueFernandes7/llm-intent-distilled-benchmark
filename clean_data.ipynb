{
 "cells": [
  {
   "cell_type": "markdown",
   "metadata": {},
   "source": [
    "Cleaning the dataset"
   ]
  },
  {
   "cell_type": "code",
   "execution_count": 31,
   "metadata": {},
   "outputs": [],
   "source": [
    "import json\n",
    "from pathlib import Path"
   ]
  },
  {
   "cell_type": "code",
   "execution_count": 32,
   "metadata": {},
   "outputs": [],
   "source": [
    "TRAIN_PATH = \"./data/train.json\"\n",
    "TEST_PATH = \"./data/test.json\"\n",
    "DATASET_PATH = \"./data/dataset.json\"\n",
    "\n",
    "train_data = []\n",
    "test_data = []"
   ]
  },
  {
   "cell_type": "markdown",
   "metadata": {},
   "source": [
    "- 30 intents, 15 examples per intent\n",
    "- Train = 10 examples per intent = 300 examples\n",
    "- Test = 5 examples per intent = 150 examples\n",
    "- 66.66% train, 33.33% test"
   ]
  },
  {
   "cell_type": "code",
   "execution_count": 33,
   "metadata": {},
   "outputs": [],
   "source": [
    "with open(DATASET_PATH, \"r\", encoding=\"utf-8\") as f:\n",
    "    dataset = json.load(f)\n",
    "\n",
    "for item in dataset[\"nlu\"]:\n",
    "\n",
    "    intent_name = item[\"intent\"]\n",
    "    examples = item[\"examples\"]\n",
    "\n",
    "    train_examples = examples[:10]\n",
    "    test_examples = examples[10:15]\n",
    "\n",
    "    for ex in train_examples:\n",
    "        train_data.append({\"text\": ex, \"intent\": intent_name})\n",
    "\n",
    "    for ex in test_examples:\n",
    "        test_data.append({\"text\": ex, \"intent\": intent_name})"
   ]
  },
  {
   "cell_type": "code",
   "execution_count": 34,
   "metadata": {},
   "outputs": [],
   "source": [
    "with open(TRAIN_PATH, \"w\", encoding=\"utf-8\") as f:\n",
    "    json.dump(train_data, f, ensure_ascii=False, indent=2)\n",
    "\n",
    "with open(TEST_PATH, \"w\", encoding=\"utf-8\") as f:\n",
    "    json.dump(test_data, f, ensure_ascii=False, indent=2)"
   ]
  },
  {
   "cell_type": "markdown",
   "metadata": {},
   "source": [
    "Transform the JSON train dataset to .yml for rasa"
   ]
  },
  {
   "cell_type": "code",
   "execution_count": 35,
   "metadata": {},
   "outputs": [
    {
     "data": {
      "text/plain": [
       "15939"
      ]
     },
     "execution_count": 35,
     "metadata": {},
     "output_type": "execute_result"
    }
   ],
   "source": [
    "train_data_rasa = dataset\n",
    "\n",
    "for item in train_data_rasa[\"nlu\"]:\n",
    "    item[\"examples\"] = item[\"examples\"][:10]\n",
    "\n",
    "output_lines = [\"version: '2.0'\", \"\", \"nlu:\"]\n",
    "for item in train_data_rasa[\"nlu\"]:\n",
    "    intent = item[\"intent\"]\n",
    "    examples = item[\"examples\"]\n",
    "\n",
    "    output_lines.append(f\"- intent: {intent}\")\n",
    "    output_lines.append(\"  examples: |\")\n",
    "    for ex in examples:\n",
    "        output_lines.append(f\"    - {ex}\")\n",
    "    output_lines.append(\"\")  # blank line between intents\n",
    "\n",
    "# Save nlu.yml file\n",
    "Path(\"data/nlu.yml\").write_text(\"\\n\".join(output_lines), encoding=\"utf-8\")\n",
    "Path(\"rasa-inference/data/nlu.yml\").write_text(\n",
    "    \"\\n\".join(output_lines), encoding=\"utf-8\"\n",
    ")"
   ]
  }
 ],
 "metadata": {
  "kernelspec": {
   "display_name": ".venv",
   "language": "python",
   "name": "python3"
  },
  "language_info": {
   "codemirror_mode": {
    "name": "ipython",
    "version": 3
   },
   "file_extension": ".py",
   "mimetype": "text/x-python",
   "name": "python",
   "nbconvert_exporter": "python",
   "pygments_lexer": "ipython3",
   "version": "3.12.8"
  }
 },
 "nbformat": 4,
 "nbformat_minor": 2
}
